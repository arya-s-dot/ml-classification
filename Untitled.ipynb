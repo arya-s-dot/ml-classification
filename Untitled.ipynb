{
 "cells": [
  {
   "cell_type": "code",
   "execution_count": 1,
   "id": "07999ce6-7cc7-47f0-a49c-f0294a7b7d15",
   "metadata": {},
   "outputs": [],
   "source": [
    "from sklearn.datasets import fetch_openml\n",
    "import matplotlib\n",
    "import matplotlib.pyplot as plt\n",
    "import random\n",
    "import numpy as np"
   ]
  },
  {
   "cell_type": "code",
   "execution_count": 2,
   "id": "eb3d294f-5710-4bd4-a86b-b16dfb5af3b5",
   "metadata": {},
   "outputs": [],
   "source": [
    "mnist = fetch_openml('mnist_784', parser='auto')"
   ]
  },
  {
   "cell_type": "code",
   "execution_count": 3,
   "id": "bbb37c32-e69b-4424-bd81-59e0a605c5e2",
   "metadata": {},
   "outputs": [],
   "source": [
    "p, q = mnist['data'], mnist['target']"
   ]
  },
  {
   "cell_type": "code",
   "execution_count": 4,
   "id": "c3f46572-4aed-42a5-94a6-76b506026d3d",
   "metadata": {},
   "outputs": [
    {
     "data": {
      "text/plain": [
       "(70000, 784)"
      ]
     },
     "execution_count": 4,
     "metadata": {},
     "output_type": "execute_result"
    }
   ],
   "source": [
    "p.shape"
   ]
  },
  {
   "cell_type": "code",
   "execution_count": 5,
   "id": "13d416af-1103-4d05-b916-a14285cb1717",
   "metadata": {},
   "outputs": [
    {
     "data": {
      "text/plain": [
       "(70000,)"
      ]
     },
     "execution_count": 5,
     "metadata": {},
     "output_type": "execute_result"
    }
   ],
   "source": [
    "q.shape"
   ]
  },
  {
   "cell_type": "code",
   "execution_count": 6,
   "id": "94cafd00-68b1-41da-9abe-d04a358b4176",
   "metadata": {},
   "outputs": [],
   "source": [
    "p_numpy = p.to_numpy()"
   ]
  },
  {
   "cell_type": "code",
   "execution_count": 7,
   "id": "60f89524-d219-418a-9ba3-83d72c402f17",
   "metadata": {},
   "outputs": [],
   "source": [
    "random_index = random.randint(0, p_numpy.shape[0] - 1)"
   ]
  },
  {
   "cell_type": "code",
   "execution_count": 8,
   "id": "be56c2e0-447e-4a56-aaf7-509e3b098168",
   "metadata": {},
   "outputs": [],
   "source": [
    "some_digit = p_numpy[random_index]\n",
    "some_digit_image = some_digit.reshape(28, 28)"
   ]
  },
  {
   "cell_type": "code",
   "execution_count": 9,
   "id": "ceee9b0c-f12f-4ce7-b3d3-af003f2035ef",
   "metadata": {},
   "outputs": [
    {
     "data": {
      "text/plain": [
       "(-0.5, 27.5, 27.5, -0.5)"
      ]
     },
     "execution_count": 9,
     "metadata": {},
     "output_type": "execute_result"
    },
    {
     "data": {
      "image/png": "[encoded data removed]",
      "text/plain": [
       "<Figure size 640x480 with 1 Axes>"
      ]
     },
     "metadata": {},
     "output_type": "display_data"
    }
   ],
   "source": [
    "plt.imshow(some_digit_image, cmap=matplotlib.cm.binary, interpolation = \"nearest\")\n",
    "plt.axis(\"off\")"
   ]
  },
  {
   "cell_type": "code",
   "execution_count": 10,
   "id": "6423700f-6b8b-422d-b417-3ba5a1ac0f96",
   "metadata": {},
   "outputs": [
    {
     "data": {
      "text/plain": [
       "'0'"
      ]
     },
     "execution_count": 10,
     "metadata": {},
     "output_type": "execute_result"
    }
   ],
   "source": [
    "q[random_index]"
   ]
  },
  {
   "cell_type": "code",
   "execution_count": 11,
   "id": "4d30f013-dfa0-4734-b652-a4bdd68d631c",
   "metadata": {},
   "outputs": [],
   "source": [
    "p_train, p_test = p[:60000], p[60000:]"
   ]
  },
  {
   "cell_type": "code",
   "execution_count": 12,
   "id": "5d3f62f2-7472-481b-99b8-7275e0df1757",
   "metadata": {},
   "outputs": [],
   "source": [
    "q_train, q_test = q[:60000], q[60000:]"
   ]
  },
  {
   "cell_type": "code",
   "execution_count": 13,
   "id": "5c28bce3-6bc3-479e-a5b3-922c0f5757de",
   "metadata": {},
   "outputs": [],
   "source": [
    "shuffle_index = np.random.permutation(len(p_train))\n",
    "p_train, q_train = p_train.iloc[shuffle_index], q_train.iloc[shuffle_index]"
   ]
  },
  {
   "cell_type": "code",
   "execution_count": 14,
   "id": "9f103402-a55c-448e-8562-d9feef0ecaa9",
   "metadata": {},
   "outputs": [],
   "source": [
    "q_train = q_train.astype(np.int8)\n",
    "q_test = q_test.astype(np.int8)\n",
    "q_train_7 = (q_train==7)\n",
    "q_test_7 = (q_test==7)"
   ]
  },
  {
   "cell_type": "code",
   "execution_count": 15,
   "id": "7e5a1dbe-8f20-4548-bfc1-162767bb787d",
   "metadata": {},
   "outputs": [
    {
     "data": {
      "text/plain": [
       "60000     True\n",
       "60001    False\n",
       "60002    False\n",
       "60003    False\n",
       "60004    False\n",
       "         ...  \n",
       "69995    False\n",
       "69996    False\n",
       "69997    False\n",
       "69998    False\n",
       "69999    False\n",
       "Name: class, Length: 10000, dtype: bool"
      ]
     },
     "execution_count": 15,
     "metadata": {},
     "output_type": "execute_result"
    }
   ],
   "source": [
    "q_test_7"
   ]
  },
  {
   "cell_type": "code",
   "execution_count": 16,
   "id": "6dc0c6f5-4e84-4702-8bf9-7c3c358e4243",
   "metadata": {},
   "outputs": [],
   "source": [
    "from sklearn.preprocessing import StandardScaler\n",
    "\n",
    "scaler = StandardScaler()\n",
    "p_train_scaled = scaler.fit_transform(p_train)\n",
    "p_test_scaled = scaler.transform(p_test)\n"
   ]
  },
  {
   "cell_type": "code",
   "execution_count": 17,
   "id": "e83ce401-1133-4ec4-91c2-4a4d99f6e618",
   "metadata": {},
   "outputs": [],
   "source": [
    "from sklearn.model_selection import cross_val_score\n",
    "from sklearn.linear_model import LogisticRegression"
   ]
  },
  {
   "cell_type": "code",
   "execution_count": 18,
   "id": "d364aee8-38e7-4988-ad90-862341553192",
   "metadata": {},
   "outputs": [
    {
     "data": {
      "text/plain": [
       "(60000, 784)"
      ]
     },
     "execution_count": 18,
     "metadata": {},
     "output_type": "execute_result"
    }
   ],
   "source": [
    "p_train_scaled.shape"
   ]
  },
  {
   "cell_type": "code",
   "execution_count": 19,
   "id": "416569d5-fd76-445f-b368-cfc2bf3d7f92",
   "metadata": {},
   "outputs": [
    {
     "data": {
      "text/plain": [
       "(60000,)"
      ]
     },
     "execution_count": 19,
     "metadata": {},
     "output_type": "execute_result"
    }
   ],
   "source": [
    "q_train_7.shape"
   ]
  },
  {
   "cell_type": "code",
   "execution_count": 20,
   "id": "8760994a-c522-4d65-bc2a-d213da6b61b1",
   "metadata": {},
   "outputs": [],
   "source": [
    "clf = LogisticRegression(max_iter=600, solver='sag', C=0.1, verbose=1)\n"
   ]
  },
  {
   "cell_type": "code",
   "execution_count": 21,
   "id": "406cb6a0-7a97-4778-8ebb-e0a8d471969b",
   "metadata": {},
   "outputs": [
    {
     "name": "stdout",
     "output_type": "stream",
     "text": [
      "max_iter reached after 249 seconds\n",
      "[False]\n"
     ]
    },
    {
     "name": "stderr",
     "output_type": "stream",
     "text": [
      "C:\\Users\\aryas\\AppData\\Local\\Programs\\Python\\Python311\\Lib\\site-packages\\sklearn\\linear_model\\_sag.py:350: ConvergenceWarning: The max_iter was reached which means the coef_ did not converge\n",
      "  warnings.warn(\n"
     ]
    }
   ],
   "source": [
    "clf.fit(p_train_scaled, q_train_7)\n",
    "num = clf.predict([some_digit])\n",
    "print(num)"
   ]
  },
  {
   "cell_type": "code",
   "execution_count": null,
   "id": "effc123b-f285-4bb5-842f-ecfc0a7a9787",
   "metadata": {},
   "outputs": [
    {
     "name": "stdout",
     "output_type": "stream",
     "text": [
      "max_iter reached after 179 seconds\n"
     ]
    },
    {
     "name": "stderr",
     "output_type": "stream",
     "text": [
      "C:\\Users\\aryas\\AppData\\Local\\Programs\\Python\\Python311\\Lib\\site-packages\\sklearn\\linear_model\\_sag.py:350: ConvergenceWarning: The max_iter was reached which means the coef_ did not converge\n",
      "  warnings.warn(\n"
     ]
    }
   ],
   "source": [
    "a = cross_val_score(clf, p_train, q_train_7, cv=3, scoring=\"accuracy\")\n",
    "print(a.mean())"
   ]
  },
  {
   "cell_type": "code",
   "execution_count": null,
   "id": "58e04596-9030-47d8-b631-72aeb3c540bc",
   "metadata": {},
   "outputs": [],
   "source": []
  }
 ],
 "metadata": {
  "kernelspec": {
   "display_name": "Python 3 (ipykernel)",
   "language": "python",
   "name": "python3"
  },
  "language_info": {
   "codemirror_mode": {
    "name": "ipython",
    "version": 3
   },
   "file_extension": ".py",
   "mimetype": "text/x-python",
   "name": "python",
   "nbconvert_exporter": "python",
   "pygments_lexer": "ipython3",
   "version": "3.11.4"
  }
 },
 "nbformat": 4,
 "nbformat_minor": 5
}
